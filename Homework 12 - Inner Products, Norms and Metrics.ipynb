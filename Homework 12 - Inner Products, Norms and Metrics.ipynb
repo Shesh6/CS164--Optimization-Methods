{
  "nbformat": 4,
  "nbformat_minor": 0,
  "metadata": {
    "colab": {
      "name": "CS164PW12.ipynb",
      "provenance": []
    },
    "kernelspec": {
      "name": "python3",
      "display_name": "Python 3"
    }
  },
  "cells": [
    {
      "cell_type": "markdown",
      "metadata": {
        "id": "daOZT4u1AWZs",
        "colab_type": "text"
      },
      "source": [
        "#### CS164 Preclass Work for Session 1.2\n",
        "\n",
        "### Basics of Real Analysis 1: Inner Products, Norms and Metrics on $R^n$\n",
        "_Yoav Rabinovich, Jan 2020_\n",
        "\n",
        "-------------------------------------"
      ]
    },
    {
      "cell_type": "markdown",
      "metadata": {
        "id": "laHmT6kaAjeU",
        "colab_type": "text"
      },
      "source": [
        "#### Calafiore Exersize 2.3.2: Angles, lines, and projections\n",
        "\n",
        "Determine the angle between the following two vectors:\n",
        "$$x=[1,2,3]^T \\ y=[3,2,1]^T$$\n",
        "Are these vectors linearly independent?"
      ]
    },
    {
      "cell_type": "markdown",
      "metadata": {
        "id": "v25nBWtPBAHp",
        "colab_type": "text"
      },
      "source": [
        "The angle between two vectors is related to their inner product:\n",
        "$$\\cos{\\theta} = \\frac{x^Ty}{||x||_2||y||_2} = \\frac{\\sum_{k=1}^n x_k y_k}{\\sqrt{\\sum_{k=1}^n x^2_k \\sum_{k=1}^n y^2_k}} = \\frac{10}{14} = \\frac{5}{7}$$\n",
        "$$\\theta = \\cos^{-1}\\frac{5}{7} = 44.42^\\circ$$\n",
        "\n",
        "The vectors are linearly independent, since their inner product (and the angle between them) is not zero, and therefore they do not lie on the same one-dimensional line, and can't express each other through scalar multiplication."
      ]
    }
  ]
}