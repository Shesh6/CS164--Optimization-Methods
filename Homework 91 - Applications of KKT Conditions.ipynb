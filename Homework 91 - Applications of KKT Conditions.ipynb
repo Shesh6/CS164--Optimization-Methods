{
  "nbformat": 4,
  "nbformat_minor": 0,
  "metadata": {
    "colab": {
      "name": "CS164PW91.ipynb",
      "provenance": [],
      "authorship_tag": "ABX9TyM0Xl8GWtR/lpcMQqgqIKIm"
    },
    "kernelspec": {
      "name": "python3",
      "display_name": "Python 3"
    }
  },
  "cells": [
    {
      "cell_type": "markdown",
      "metadata": {
        "id": "5wPRtdLxGFD9",
        "colab_type": "text"
      },
      "source": [
        "#### CS164 Preclass Work for Session 9.1\n",
        "\n",
        "### Applications of the KKT conditions\n",
        "_Yoav Rabinovich, Mar 2020_\n",
        "\n",
        "--------------"
      ]
    },
    {
      "cell_type": "markdown",
      "metadata": {
        "id": "EvHMbuLUGMfo",
        "colab_type": "text"
      },
      "source": [
        "_In this exercise, we will show how the KKT conditions can be used directly to find a globally optimal solutions to a simple optimization problem. Consider a problem of the form_\n",
        "\n",
        "$$\\begin{align*}\n",
        "\\max_{x,y} \\ f(x,y) &= xy\\\\\n",
        "\\text{s.t:} \\ x+y^2 &\\leq 2\\\\\n",
        "x,y &\\geq 0\n",
        "\\end{align*}$$"
      ]
    },
    {
      "cell_type": "markdown",
      "metadata": {
        "id": "mu6gPMflHkGh",
        "colab_type": "text"
      },
      "source": [
        "**(1)** _The cost function in this case is continuous and bounded over a compact region, so that we know that there exists a globally optimal solution. Even though the objective is not strictly concave, the KKT conditions can still be applied in this case, but are only necessary and not sufficient for a global optimum. Hence, there may be multiple points that satisfy all of the KKT conditions. Write out the KKT conditions for this function by defining an appropriate number of Lagrange multipliers._\n",
        "\n",
        "Three constraints, $\\ g_1(\\mathbf{x})=-x, \\ g_2(\\mathbf{x})=-y, \\ g_3(\\mathbf{x})=x+y^2-2$, give us three multipliers:\n",
        "\n",
        "For some vector $\\boldsymbol{\\mu} \\in \\mathbb{R}^3_+$:\n",
        "\n",
        "- Stationarity constraint for maximization:\n",
        "\n",
        "$$\\begin{align*}\n",
        "&\\nabla_\\mathbf{x} f(\\mathbf{x}) - \\underset{i=1}{\\overset{n}{\\sum}} \\mu_i \\nabla_\\mathbf{x} g_i(\\mathbf{x})\n",
        "\\end{align*}$$\n",
        "\n",
        "- Equality constraints: None.\n",
        "\n",
        "- Complementary slackness constraint:\n",
        "\n",
        "$$\\begin{align*}\n",
        "&\\boldsymbol{\\mu}g(\\mathbf{x})=\\mathbf{0}\n",
        "\\end{align*}$$"
      ]
    },
    {
      "cell_type": "markdown",
      "metadata": {
        "id": "n2X-y8amaXOb",
        "colab_type": "text"
      },
      "source": [
        "**(2)** _Try various combinations of the multipliers being nonzero and solve for the corresponding $x$ and $y$._"
      ]
    },
    {
      "cell_type": "markdown",
      "metadata": {
        "id": "RxbZw9uSaUIu",
        "colab_type": "text"
      },
      "source": [
        "**(3)** _State the globally optimal solution to the optimization problem by checking the objective function value at all of the points that satisfy the KKT conditions._"
      ]
    },
    {
      "cell_type": "markdown",
      "metadata": {
        "id": "qHOzo1y9H1HQ",
        "colab_type": "text"
      },
      "source": [
        "First, in the case of no constraints:\n",
        "\n",
        "$$\\begin{align*}\n",
        "y &= 0 \\\\\n",
        "x &= 0\\\\\n",
        "\\end{align*}$$\n",
        "\n",
        "Which agrees with all three constraints, but $f(0,0)=0$.\n",
        "\n",
        "\n",
        "Then we have the single active constraint cases:\n",
        "\n",
        "- If only $g_1$ is active, we solve:\n",
        "\n",
        "$$\\begin{align*}\n",
        "y+\\mu_1 &= 0 \\\\\n",
        "x &= 0\\\\\n",
        "-x &= 0\n",
        "\\end{align*}$$\n",
        "\n",
        "Which gives the plane $y=-\\mu_1$ which is reduced again to the point $x=u=\\mu=0$ when the constraints are met.\n",
        "\n",
        "- If only $g_2$ is active, we solve:\n",
        "\n",
        "$$\\begin{align*}\n",
        "y &= 0 \\\\\n",
        "x+\\mu_2 &= 0\\\\\n",
        "-y &= 0\n",
        "\\end{align*}$$\n",
        "\n",
        "Which gives the plane $x=-\\mu_2$ which is reduced again to the point $x=u=\\mu=0$ when the constraints are met.\n",
        "\n",
        "- If only $g_3$ is active, we solve:\n",
        "\n",
        "$$\\begin{align*}\n",
        "y-\\mu_3 &= 0 \\\\\n",
        "x-2 \\mu_3 y &= 0\\\\\n",
        "x+y^2-2 &= 0\n",
        "\\end{align*}$$\n",
        "\n",
        "Which gives two soluions, $x=\\frac{4}{3},y=\\mu_3=\\pm\\sqrt{\\frac{2}{3}}$. One solution can't correspond to the optimum since the multiplier is negative and $y$ doesn't conform to the second constraint. The other gives $f(\\frac{4}{3},\\sqrt{\\frac{2}{3}})=2\\sqrt{\\frac{2}{3}}^3 \\approx 1.089$.\n",
        "\n",
        "Then, for two active constraints we have three more options:\n",
        "\n",
        "- If $g_1$ and $g_2$ are active, we solve:\n",
        "\n",
        "$$\\begin{align*}\n",
        "y +\\mu_1 &= 0 \\\\\n",
        "x +\\mu_2 &= 0 \\\\\n",
        "-x &= 0 \\\\\n",
        "-y &= 0\n",
        "\\end{align*}$$\n",
        "\n",
        "Which again gives $x=y=\\mu_1=\\mu_2=0$.\n",
        "\n",
        "- If $g_1$ and $g_3$ are active, we solve:\n",
        "\n",
        "$$\\begin{align*}\n",
        "y +\\mu_1 -\\mu_3 &= 0 \\\\\n",
        "x -2 \\mu_3 y &= 0 \\\\\n",
        "-x &= 0 \\\\\n",
        "x+y^2-2 &= 0\n",
        "\\end{align*}$$\n",
        "\n",
        "Which gives two solutions, $x=0, y=\\pm\\sqrt{2}, \\mu_3=0$ and $\\mu_1=\\mp\\sqrt{2}$. Since either $y$ or $\\mu_1$ is negative, this is cannot the optimum.\n",
        "\n",
        "- If $g_2$ and $g_3$ are active, we solve:\n",
        "\n",
        "$$\\begin{align*}\n",
        "y -\\mu_3 &= 0 \\\\\n",
        "x +\\mu_2-2\\mu_3 y &= 0 \\\\\n",
        "-y &= 0 \\\\\n",
        "x+y^2-2 &= 0\n",
        "\\end{align*}$$\n",
        "\n",
        "Which gives $x=2, y=0, \\mu_1=-2, \\mu_3=0$. Since one of the multipliers is negative, this cannot be the optimum.\n",
        "\n",
        "Finally, with all constraints active, we solve:\n",
        "\n",
        "$$\\begin{align*}\n",
        "y +\\mu_1-\\mu_3 &= 0 \\\\\n",
        "x +\\mu_2-2\\mu_3 y &= 0 \\\\\n",
        "-x &= 0 \\\\\n",
        "-y &= 0 \\\\\n",
        "x+y^2-2 &= 0\n",
        "\\end{align*}$$\n",
        "\n",
        "Which has no solutions.\n",
        "\n",
        "We conclude that the point $x=\\frac{4}{3},y=\\mu_3=\\pm\\sqrt{\\frac{2}{3}}$, where only constraint $g_3$ is active, is the optimum point, with $f(x,y)\\approx 1.089$."
      ]
    }
  ]
}