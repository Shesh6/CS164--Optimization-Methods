{
  "nbformat": 4,
  "nbformat_minor": 0,
  "metadata": {
    "colab": {
      "name": "CS164PW71.ipynb",
      "provenance": [],
      "collapsed_sections": [],
      "authorship_tag": "ABX9TyNSsvvaLfw1HhUxx1D6cT/f"
    },
    "kernelspec": {
      "name": "python3",
      "display_name": "Python 3"
    }
  },
  "cells": [
    {
      "cell_type": "markdown",
      "metadata": {
        "id": "SN9rs1QUB-r4",
        "colab_type": "text"
      },
      "source": [
        "#### CS164 Preclass Work for Session 7.1\n",
        "\n",
        "### Convex Sets and Cones\n",
        "_Yoav Rabinovich, Feb 20_\n",
        "\n",
        "--------"
      ]
    },
    {
      "cell_type": "markdown",
      "metadata": {
        "id": "2AHv6hWRCFe3",
        "colab_type": "text"
      },
      "source": [
        "#### Calafiore, G., & Ghaoui Exercise 8.1: Quadratic inequalities"
      ]
    },
    {
      "cell_type": "markdown",
      "metadata": {
        "id": "1z0r7zK_COzW",
        "colab_type": "text"
      },
      "source": [
        "_Consider the set defined by the following inequalities:_\n",
        "\n",
        "$$(x_1 \\geq x_2 − 1 \\text{ and } x_2 \\geq 0) \\text{ or } (x_1 \\leq x_2 − 1 \\text{ and } x_2 \\leq 0).$$"
      ]
    },
    {
      "cell_type": "markdown",
      "metadata": {
        "id": "Ug9RenTfC0Wu",
        "colab_type": "text"
      },
      "source": [
        "1. _Draw the set. Is it convex?_\n",
        "\n",
        "No. If we labels the quadrants around the origin (-1,0), pairs of points that are connected by line segments between the first and third quadrants that don't go through that origin are not wholly contained in the set. Examples in the plot below."
      ]
    },
    {
      "cell_type": "code",
      "metadata": {
        "id": "HsBzpNLHD2rk",
        "colab_type": "code",
        "colab": {}
      },
      "source": [
        "import numpy as np\n",
        "import matplotlib.pyplot as plt"
      ],
      "execution_count": 0,
      "outputs": []
    },
    {
      "cell_type": "code",
      "metadata": {
        "id": "eFL93pl5C1eU",
        "colab_type": "code",
        "colab": {
          "base_uri": "https://localhost:8080/",
          "height": 269
        },
        "outputId": "45f1482b-0601-462f-cc07-928fe69885dd"
      },
      "source": [
        "def setdef(x1,x2):\n",
        "    return ((x1>=(x2-1))and(x2>=0))or((x1<=(x2-1))and(x2<=0))\n",
        "\n",
        "xs = np.linspace(-10,10,100)\n",
        "ys = np.linspace(-10,10,100)\n",
        "\n",
        "x1s=[]\n",
        "x2s=[]\n",
        "\n",
        "for x1 in xs:\n",
        "    for x2 in ys:\n",
        "        if setdef(x1,x2):\n",
        "            x1s.append(x1)\n",
        "            x2s.append(x2)\n",
        "\n",
        "plt.scatter(x1s,x2s,c=\"black\")\n",
        "plt.plot([-7.5,7.5],[-5,2.5],c=\"red\")\n",
        "plt.plot([-7.5,7.5],[-5,6.5],c=\"green\")\n",
        "plt.xlim(-10,10)\n",
        "plt.ylim(-10,10)\n",
        "plt.show()"
      ],
      "execution_count": 41,
      "outputs": [
        {
          "output_type": "display_data",
          "data": {
            "image/png": "[encoded data removed]",
            "text/plain": [
              "<Figure size 432x288 with 1 Axes>"
            ]
          },
          "metadata": {
            "tags": []
          }
        }
      ]
    },
    {
      "cell_type": "markdown",
      "metadata": {
        "id": "E_9sHRUlC2H3",
        "colab_type": "text"
      },
      "source": [
        "2. _Show that it can be described as a single quadratic inequality of the form $q(x) = x^⊤ Ax + 2b^⊤x + c \\leq 0$, for a matrix $A = A^⊤ \\in \\mathbb{R}^{2,2}, b \\in \\mathbb{R}^2$ and $c \\in \\mathbb{R}$ which you will determine._\n",
        "\n",
        "The plot hints to the solution as it corresponds to a horizontal slice of a saddle that goes through the saddle point. A quadratic with a saddle point at (-1,0) and level sets with slopes 0 and 1 will fit the bill.\n",
        "\n",
        "We start by simplifying the inequalities. For positive $x_2$ we have $x_2-x_1-1\\geq0$, and for negative $x_2$, $x_2-x_1-1\\leq0$. Notice that if we multiply the equations by $x_2$ in both cases we achieve the same inequality, since in the latter case $x_2$ is negative and flips the inequality sign. Therefore, the inequality $x_2^2-x_1x_2-x_2\\geq0$ applies for the entire domain $x \\in \\mathbb{R}^2$. We can then identify the coefficients and set up the quadratic form:\n",
        "\n",
        "$$A = \\begin{bmatrix}\n",
        "0 \\ \\ \\ \\frac{-1}{2} \\\\\n",
        "\\frac{-1}{2} \\ \\ \\ 1\n",
        "\\end{bmatrix}, \\\n",
        "b=\\begin{bmatrix}\n",
        "0 \\\\\n",
        "-1/2\n",
        "\\end{bmatrix}, \\\n",
        "c=0$$\n"
      ]
    },
    {
      "cell_type": "markdown",
      "metadata": {
        "id": "0xVBdR5kDocq",
        "colab_type": "text"
      },
      "source": [
        "3. _What is the convex hull of this set?_\n",
        "\n",
        "An attempt to include the line segment connecting each point in the set to each other point in a hull will cover the entire plane, therefore the smallest convex set that contains the set (also the largest), or the convex hull of the set is $\\mathbb{R^2}$."
      ]
    }
  ]
}