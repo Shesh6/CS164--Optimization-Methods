{
  "nbformat": 4,
  "nbformat_minor": 0,
  "metadata": {
    "colab": {
      "name": "CS164PW22.ipynb",
      "provenance": [],
      "collapsed_sections": []
    },
    "kernelspec": {
      "name": "python3",
      "display_name": "Python 3"
    }
  },
  "cells": [
    {
      "cell_type": "markdown",
      "metadata": {
        "id": "SClDjiHHJ_4F",
        "colab_type": "text"
      },
      "source": [
        "#### CS164 Preclass Work for Session 2.2\n",
        "\n",
        "### Basics of Real Analysis 3: Limit points and Compact Sets\n",
        "_Yoav Rabinovich, Jan 2020_\n",
        "\n",
        "-----------"
      ]
    },
    {
      "cell_type": "markdown",
      "metadata": {
        "id": "J26FuTroKMWJ",
        "colab_type": "text"
      },
      "source": [
        "#### Trench, W. F. (2009). Introduction to real analysis. Section 1.3 Problem 11"
      ]
    },
    {
      "cell_type": "markdown",
      "metadata": {
        "id": "2lt-xu_pKRuj",
        "colab_type": "text"
      },
      "source": [
        "*Find the set of limit points of $S$, $\\partial S$, $\\bar{S}$, the set of isolated points of $S$, and the exterior of $S$.*\n",
        "\n",
        "$ \\ \\textbf{(a)} S = (-\\infty,-2)\\cup (2,3)\\cup \\{4\\}\\cup (7,\\infty) \\\\\n",
        "\\begin{align*}\n",
        "S_{\\text{limit}} &= (-\\infty,-2]\\cup [2,3]\\cup [7,\\infty)\\\\\n",
        "\\partial S &= \\{-2,2,3,4,7\\} \\\\\n",
        "\\bar{S} &= (-\\infty,-2]\\cup [2,3]\\cup \\{4\\}\\cup [7,\\infty)\\\\\n",
        "S_{\\text{isolated}} &= \\{4\\}\\\\\n",
        "S_{\\text{exterior}} &= (-2,2)\\cup (3,4) \\cup (4,7)\\\\\n",
        "\\end{align*}$\n",
        "\n",
        "$ \\ \\textbf{(b)} S = \\{\\text{all integers}\\} \\\\\n",
        "\\begin{align*}\n",
        "S_{\\text{limit}} &= \\emptyset \\\\\n",
        "\\partial S &= S \\\\\n",
        "\\bar{S} &= S \\\\\n",
        "S_{\\text{isolated}} &= S \\\\\n",
        "S_{\\text{exterior}} &= \\bar{S}^c = S^c = \\cup \\{(n,n+1)|n=\\text{integer}\\}\\\\\n",
        "\\end{align*}$\n",
        "\n",
        "$ \\ \\textbf{(c)} S = \\cup \\{(n,n+1)|n=\\text{integer}\\} \\\\\n",
        "\\begin{align*}\n",
        "S_{\\text{limit}} &= \\mathbb{R}\\\\\n",
        "\\partial S &= \\{\\text{all integers}\\}\\\\\n",
        "\\bar{S} &= \\mathbb{R} \\\\\n",
        "S_{\\text{isolated}} &= \\emptyset \\\\\n",
        "S_{\\text{exterior}} &= \\emptyset \\\\\n",
        "\\end{align*}$\n",
        "\n",
        "$ \\ \\textbf{(d)} S = \\{x|x=1/n,n=1,2,3,...\\} \\\\\n",
        "\\begin{align*}\n",
        "S_{\\text{limit}} &= \\emptyset \\\\\n",
        "\\partial S &= S\\\\\n",
        "\\bar{S} &= S\\\\\n",
        "S_{\\text{isolated}} &= S\\\\\n",
        "S_{\\text{exterior}} &= \\bar{S}^c = S^c = \\{x|x\\neq 1/n,n=1,2,3...\\}\\\\\n",
        "\\end{align*}$\n",
        "\n",
        "If LaTeX isn't showing correctly, link to nbviewer: https://nbviewer.jupyter.org/gist/Shesh6/7b41b638b140683e4dc8687dd1efafd4"
      ]
    }
  ]
}