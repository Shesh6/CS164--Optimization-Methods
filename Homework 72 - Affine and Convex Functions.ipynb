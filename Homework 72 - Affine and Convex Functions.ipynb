{
  "nbformat": 4,
  "nbformat_minor": 0,
  "metadata": {
    "colab": {
      "name": "CS164PW72.ipynb",
      "provenance": [],
      "collapsed_sections": [],
      "authorship_tag": "ABX9TyPJ5BX3DN3oqJ2QDTtLMMOM"
    },
    "kernelspec": {
      "name": "python3",
      "display_name": "Python 3"
    }
  },
  "cells": [
    {
      "cell_type": "markdown",
      "metadata": {
        "id": "cESThFDtM4ba",
        "colab_type": "text"
      },
      "source": [
        "####CS164 Preclass Work for Session 7.2\n",
        "\n",
        "### Affine and Convex Functions\n",
        "_Yoav Rabinovich, Feb 20_\n",
        "\n",
        "--------------------------------------------"
      ]
    },
    {
      "cell_type": "markdown",
      "metadata": {
        "id": "oVR_Q_MSNCoh",
        "colab_type": "text"
      },
      "source": [
        "#### Calafiore & Ghaoui Exercise 8.2: Closed functions and sets."
      ]
    },
    {
      "cell_type": "markdown",
      "metadata": {
        "id": "jXB7pN0iNtib",
        "colab_type": "text"
      },
      "source": [
        "_Show that the indicator function $I_\\mathcal{X}$ of a convex set $\\mathcal{X}$ is convex._\n",
        "\n",
        "The indicator function for a set is defined as 0 where the input is a member of the set, and infinity elsewhere. Since a convex set contains the line segments connecting any of its members, no segment of the function between any two members will take any value other than 0, showing us that the function is piecewise continuous with three sections. For each pair of points, if the points are both memebers of the set or both aren't memebrs of the set, the line segment connecting them is always equal in value to the function segment connecting them. For pairs of points where one is a memeber of the set and the other isn't, then multiplication by any $\\lambda < 1$ will never matter, and the line segment connecting the pair is always above the function segment connecting them. Therefore, the function is convex."
      ]
    },
    {
      "cell_type": "markdown",
      "metadata": {
        "id": "6-XPBsXMCgfA",
        "colab_type": "text"
      },
      "source": [
        "_Show that this function is closed whenever $\\mathcal{X}$ is a closed set._\n",
        "\n",
        "A convex function is closed if for any $\\alpha \\in \\mathbb{R}$, the $\\alpha$ sublevel set is closed. According to the same logic as used above, the indicator function of a convex set is piecewise continuous, with three sections. The only sublevel set in the reals is the middle one, where the values are all 0, which corresponds to the inputs that are in $\\mathcal{X}$. Therefore, if $\\mathcal{X}$ is closed, the sublevel set is closed, and the function is closed.\n"
      ]
    },
    {
      "cell_type": "markdown",
      "metadata": {
        "id": "Fq1o7-sGNLo1",
        "colab_type": "text"
      },
      "source": [
        "#### Calafiore & Ghaoui Exercise 8.3: Convexity of functions."
      ]
    },
    {
      "cell_type": "markdown",
      "metadata": {
        "id": "2llIuJtTN5Kl",
        "colab_type": "text"
      },
      "source": [
        "**(1)** _For $x, y$ both positive scalars, show that $ye^{x/y}=\\max_{\\alpha>0} \\ \\alpha(x+y)-y\\alpha\\ln{\\alpha}$._\n",
        "\n",
        "To find the maximum of the function, we take its derivative and set it to zero:\n",
        "\n",
        "$$\\frac{d}{d\\alpha}(\\alpha(x+y)-y\\alpha\\ln{\\alpha}) = x-y\\ln\\alpha = 0$$\n",
        "\n",
        "To which the solution where $\\alpha$ is positive is $\\ln{\\alpha}=\\frac{x}{y}$. Subtituting $\\alpha = e^{x/y}$ back into the function we find the intended result: $\\alpha e^{x/y}(x+y)-y e^{x/y}\\frac{x}{y} = ye^{x/y}$."
      ]
    },
    {
      "cell_type": "markdown",
      "metadata": {
        "id": "mVoLbx2oOX5t",
        "colab_type": "text"
      },
      "source": [
        "_Use the above result to prove that the function $f$ defined as_\n",
        "$$f(x,y)=\\bigg\\{ \\begin{matrix} ye^{x/y} \\ \\text{if} \\ x>0, y>0, \\\\ +\\infty \\ \\text{otherwise,} \\end{matrix}$$\n",
        "_is convex._\n",
        "\n",
        "For any value of $\\alpha$, $\\alpha(x+y)-y\\alpha\\ln{\\alpha}$ is a linear function, so it's also convex."
      ]
    },
    {
      "cell_type": "markdown",
      "metadata": {
        "id": "vUFGUHvbPLt2",
        "colab_type": "text"
      },
      "source": [
        "**(2)** _Show that for $r\\geq 1$, the function $f_r: \\mathbb{R}^m_+\\rightarrow \\mathbb{R}$, with values $f_r(v)=\\left( \\sum_{j=1}^m v_j^{1/r}\\right)^r$ is concave._\n",
        "\n",
        "I'm not sure how to approach this problem, so I'm leaving it out."
      ]
    }
  ]
}