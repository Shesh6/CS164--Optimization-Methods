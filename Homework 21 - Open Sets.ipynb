{
  "nbformat": 4,
  "nbformat_minor": 0,
  "metadata": {
    "colab": {
      "name": "CS164PW21.ipynb",
      "provenance": [],
      "authorship_tag": "ABX9TyPJg0UexQ9xd/XLDwpmU/Di"
    },
    "kernelspec": {
      "name": "python3",
      "display_name": "Python 3"
    }
  },
  "cells": [
    {
      "cell_type": "markdown",
      "metadata": {
        "id": "cAHchYa7L1Tj",
        "colab_type": "text"
      },
      "source": [
        "#### CS164 Preclass Work for Session 2.1\n",
        "\n",
        "### Basics of Real Analysis 2: Open Sets\n",
        "_Yoav Rabinovich, Jan 2020_\n",
        "\n",
        "----------------------------------"
      ]
    },
    {
      "cell_type": "markdown",
      "metadata": {
        "id": "Wt76IkH8L_o7",
        "colab_type": "text"
      },
      "source": [
        "#### Trench, W. F. (2009) Introduction to real analysis Section 1.3"
      ]
    },
    {
      "cell_type": "markdown",
      "metadata": {
        "id": "naU0hzkdMHmK",
        "colab_type": "text"
      },
      "source": [
        "##### Problem 5\n",
        "\n",
        "*Describe the following sets as open, closed or neither and find $S^0$, $(S^c)^0$ and $(S^0)^c$:*\n",
        "\n",
        "$\\textbf{(a)} \\ S=(-1,2)\\cup [3,\\infty)$\n",
        "\n",
        "$S$ includes only some of its boundary, and is neither open nor closed.\n",
        "\n",
        "$\\begin{align*}\n",
        "        S^0 &= [-1,2]\\cup[3,\\infty]\\\\\n",
        "        (S^c)^0 &= [-\\infty,-1]\\cup[2,3] \\\\\n",
        "        (S^0)^c &=  (-\\infty, -1]\\cup(2,3)\n",
        "\\end{align*}$\n",
        "\n",
        "$\\textbf{(b)} \\ S=(-\\infty,1)\\cup(2,\\infty)$\n",
        "\n",
        "$S$ is open.\n",
        "\n",
        "$\\begin{align*}\n",
        "        S^0 &= [-\\infty,1]\\cup [2,\\infty]\\\\\n",
        "        (S^c)^0 &= [1,2] \\\\\n",
        "        (S^0)^c &= (1,2)\n",
        "\\end{align*}$\n",
        "\n",
        "$\\textbf{(c)} \\  S=[-3,-2]\\cup[3,8]$\n",
        "\n",
        "$S$ is closed.\n",
        "\n",
        "$\\begin{align*}\n",
        "        S^0 &= (-3,-2)\\cup (7,8)\\\\\n",
        "        (S^c)^0 &= [-\\infty,-3]\\cup[2,7]\\cup[8, \\infty] \\\\\n",
        "        (S^0)^c &= (-\\infty,-3]\\cup[2,7]\\cup[8, \\infty]\n",
        "\\end{align*}$\n",
        "\n",
        "$\\textbf{(d)} \\  S=\\{x|x=\\text{integer}\\}$\n",
        "\n",
        "$S$ is closed.\n",
        "\n",
        "$\\begin{align*}\n",
        "        S^0 &= \\emptyset \\\\\n",
        "        (S^C)^0 &= \\{x|x = \\text{non-integer}\\} \\\\\n",
        "        (S^0)^C &= \\mathbb{R}^2\n",
        "\\end{align*}$"
      ]
    },
    {
      "cell_type": "markdown",
      "metadata": {
        "id": "RFsDt0OvMgwu",
        "colab_type": "text"
      },
      "source": [
        "##### Problem 8\n",
        "$(a)$ Show that the intersecion of finitely many open sets is open.\n",
        "\n",
        "Let $S_1,S_2 ... S_k$ be a finite number of open sets. For an element $x \\in \\cap_{i=0}^{k} S_i$, we know there exists an $r_i$ for each set where the ball $B_{r_i}(x)\\subset S_i$. For a finite number of open sets, we can take the smallest of these $r_i$ as an $r$ where $B_r(x) \\subset \\cap_{i=1}^{k} S_i$.\n",
        "\n",
        "$(b)$ Give an example showing that the intersection of infinitely many open sets may fail to be open.\n",
        "\n",
        "$\\cap_{n=1}^\\infty (0,1+\\frac{1}{n}) = (0,1]$\n",
        "\n",
        "With $n\\rightarrow \\infty$, the right term gets exactly to 1. "
      ]
    },
    {
      "cell_type": "markdown",
      "metadata": {
        "id": "YvZblGY5N4hc",
        "colab_type": "text"
      },
      "source": [
        "#### Trench, W. F. (2009) Introduction to real analysis Section 2.2"
      ]
    },
    {
      "cell_type": "markdown",
      "metadata": {
        "id": "pJM24D48N7ns",
        "colab_type": "text"
      },
      "source": [
        "##### Problem 4\n",
        "\n",
        "Find $lim_{x\\rightarrow x_0}f(x)$ and justify your answers with an $\\epsilon-\\delta$ proof.\n",
        "\n",
        "$\\textbf{(a)} \\ x^2+2x+1, \\ x_0=1$\n",
        "\n",
        "$\\textbf{(b)} \\ \\frac{x^3-8}{x-2}, \\ x_0=2$"
      ]
    }
  ]
}