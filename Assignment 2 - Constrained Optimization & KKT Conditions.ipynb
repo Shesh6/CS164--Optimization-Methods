{
  "nbformat": 4,
  "nbformat_minor": 0,
  "metadata": {
    "colab": {
      "name": "CS164 Assignment 2.ipynb",
      "provenance": [],
      "collapsed_sections": [],
      "authorship_tag": "ABX9TyNzfKH5hG+0ZJ7j4MW7nByX"
    },
    "kernelspec": {
      "name": "python3",
      "display_name": "Python 3"
    }
  },
  "cells": [
    {
      "cell_type": "markdown",
      "metadata": {
        "id": "jpxYZUi6bd2D",
        "colab_type": "text"
      },
      "source": [
        "#### CS164 Assignment 2\n",
        "\n",
        "### Constrained Optimization & The KKT Conditions\n",
        "_Yoav Rabinovich, April 2020_\n",
        "\n",
        "______________________\n"
      ]
    },
    {
      "cell_type": "markdown",
      "metadata": {
        "id": "T2jv_UGqsHlM",
        "colab_type": "text"
      },
      "source": [
        "[Link to GitHub](https://github.com/Shesh6/CS164--Optimization-Methods/blob/master/Assignment%202%20-%20Constrained%20Optimization%20%26%20KKT%20Conditions.ipynb).\n",
        "[Link to NBViewer](https://nbviewer.jupyter.org/github/Shesh6/CS164--Optimization-Methods/blob/master/Assignment%202%20-%20Constrained%20Optimization%20%26%20KKT%20Conditions.ipynb)."
      ]
    },
    {
      "cell_type": "markdown",
      "metadata": {
        "id": "oXo9RPRsbn87",
        "colab_type": "text"
      },
      "source": [
        "#### Part 1"
      ]
    },
    {
      "cell_type": "markdown",
      "metadata": {
        "id": "ftR9Lhf8crks",
        "colab_type": "text"
      },
      "source": [
        "_A linear program can be written in the form_\n",
        "$$\\begin{align*}\n",
        "\\min_\\boldsymbol{x} \\ &f(\\boldsymbol{x}) = \\boldsymbol{c}^T \\boldsymbol{x} \\\\\n",
        "\\text{s.t:} \\ &\\boldsymbol{g}(\\boldsymbol{x}) = A\\boldsymbol{x}\\leq \\boldsymbol{b},\n",
        "\\end{align*}$$\n",
        "\n",
        "_for matrices $A \\in \\mathbb{R}^{n\\times m}, \\boldsymbol{b} \\in \\mathbb{R}^{1\\times m}$ and $\\boldsymbol{c} \\in \\mathbb{R}^{1\\times n}$._\n",
        "\n",
        "_Write down the KKT conditions for this\n",
        "LP and explain why the optimal solution will in general never be found in the interior of the feasible region and will always be on a vertex or facet._"
      ]
    },
    {
      "cell_type": "markdown",
      "metadata": {
        "id": "AYhoMGWFcr7v",
        "colab_type": "text"
      },
      "source": [
        "The KKT conditions for this problem, defining the  follow:\n",
        "\n",
        "- Without equality constraints, we need $m$ multipliers to solve this problem. We constrain them to be non-negative:\n",
        "$$\\boldsymbol{\\mu} \\in \\mathbb{R}^{1\\times m}_+$$\n",
        "\n",
        "- The *Stationarity constraint for minimization* makes sure the solution is optimal by ensuring that the gradients of the objective function and the weighted constraints add up to the zero vector:\n",
        "$$\\begin{align*}\n",
        "&\\nabla_\\mathbf{x} f(\\mathbf{x}) + \\boldsymbol{\\mu}^T \\nabla_\\mathbf{x} \\boldsymbol{g}(\\mathbf{x}) \\\\\n",
        "= \\ &\\boldsymbol{c}+\\boldsymbol{\\mu}^T A =\\mathbf{0}\n",
        "\\end{align*}$$\n",
        "\n",
        "- The *Complementary slackness constraint* makes sure that only active constraints have non-zero multiplers:\n",
        "\n",
        "$$\\begin{align*}\n",
        "&\\boldsymbol{\\mu}^Tg(\\mathbf{x}) \\\\\n",
        "= \\ &\\boldsymbol{\\mu}^T(A\\boldsymbol{x} - \\boldsymbol{b})=\\mathbf{0} \n",
        "\\end{align*}$$\n",
        "\n",
        "- No equality constraints are needed."
      ]
    },
    {
      "cell_type": "markdown",
      "metadata": {
        "id": "0KD6TSGzidAI",
        "colab_type": "text"
      },
      "source": [
        "Since the objective function of a linear program is linear, it has no optimum points in any bounded domain, so the solution cannot be in the interior of the domain. If the objective function happens to be perpendicular to one of the boundary facets, the facet will be parallel to a level set and comprise a solution, as the function attains its optimal value in the domain at any point on the boundary line. In any other case, we are left with only vertices as possible solution points."
      ]
    },
    {
      "cell_type": "markdown",
      "metadata": {
        "id": "P_1Aj96ucsgx",
        "colab_type": "text"
      },
      "source": [
        "#### Part 2"
      ]
    },
    {
      "cell_type": "markdown",
      "metadata": {
        "id": "OzISGdNgcv3G",
        "colab_type": "text"
      },
      "source": [
        "_Show how the $l_1$ and $l_\\infty$ regression problems can be expressed as linear programs, by defining slack variables and inequality constraints as needed._"
      ]
    },
    {
      "cell_type": "markdown",
      "metadata": {
        "id": "8mfijOpJc2pb",
        "colab_type": "text"
      },
      "source": [
        "The one-norm problem\n",
        "$$\\begin{align*}\n",
        "\\min_\\boldsymbol{x} \\ &||\\boldsymbol{x}||_1 \\\\\n",
        "\\text{s.t:} \\ &A\\boldsymbol{x}\\leq \\boldsymbol{b},\n",
        "\\end{align*}$$\n",
        "\n",
        "where $||\\boldsymbol{x}||_1 = \\sum_i |x_i|$ isn't in canonical form. We can transform it by introducing a slack vector $\\boldsymbol{s}\\in \\mathbb{R}^{1\\times n}_+$ such that $-s_i\\leq x_i \\leq s_i$ for each element $i$ of both vectors. This means that $s_i$ provides an upper bound for $|x_i|$, and that by arranging the problem such that we minimize $\\boldsymbol{s}$, we'd be minimizing $||\\boldsymbol{x}||_1$ by extension.\n",
        "\n",
        "We introduce the new constraints accompanying the slack vector as such:\n",
        "$$\\begin{align*}\n",
        "\\boldsymbol{x}\\leq \\boldsymbol{s} &\\rightarrow \\boldsymbol{x} - \\boldsymbol{s} \\leq 0 \\\\\n",
        "-\\boldsymbol{s}\\leq \\boldsymbol{x} &\\rightarrow - \\boldsymbol{x} - \\boldsymbol{s} \\leq 0\n",
        "\\end{align*}$$\n",
        "\n",
        "and append them to our constraint matrix:\n",
        "$$\\begin{align*}\n",
        "&\\begin{bmatrix} A & 0 \\\\ I & -I \\\\ -I & -I\\end{bmatrix}\\begin{bmatrix}\\boldsymbol{x} \\\\ \\boldsymbol{s} \\end{bmatrix} = \\begin{bmatrix}\\boldsymbol{b} \\\\0\\\\0 \\end{bmatrix} \\\\\n",
        "\\rightarrow &A^*\\boldsymbol{x}^* = \\boldsymbol{b}^*\n",
        "\\end{align*}$$\n",
        "\n",
        "Now we can define our linear program in canonical form, taking the sum of $\\boldsymbol{s}$ through product with a row-one-vector:\n",
        "$$\\begin{align*}\n",
        "\\min_{\\boldsymbol{x},\\boldsymbol{s}} \\ &\\boldsymbol{1}\\times\\boldsymbol{s} \\\\\n",
        "\\text{s.t:} \\ &A^*\\boldsymbol{x}^*\\leq \\boldsymbol{b}^*,\n",
        "\\end{align*}$$"
      ]
    },
    {
      "cell_type": "markdown",
      "metadata": {
        "id": "9ZvPN7yEsE-K",
        "colab_type": "text"
      },
      "source": [
        "The infinity-norm problem\n",
        "$$\\begin{align*}\n",
        "\\min_\\boldsymbol{x} \\ &||\\boldsymbol{x}||_\\infty \\\\\n",
        "\\text{s.t:} \\ &A\\boldsymbol{x}\\leq \\boldsymbol{b},\n",
        "\\end{align*}$$\n",
        "\n",
        "where $||\\boldsymbol{x}||_\\infty = \\max |x_i|$ isn't in canonical form either. We can transform it very similarly, by introducing a slack variable $s \\in \\mathbb{R}_+$ such that $-s\\leq x_i \\leq s$ for each element $i$ in $\\boldsymbol{x}$. This means that $s$ provides an upper bound for $|x_i|$, and that by arranging the problem such that we minimize $\\boldsymbol{s}$, we'd be minimizing $||\\boldsymbol{x}||_\\infty$ by extension.\n",
        "\n",
        "We can use a single value for $s$ this time because we need only minimize a single element of $\\boldsymbol{x}$ for the infinity-norm, and we'll multiply $s$ by a column-one-vector of size $n$ to integrate the new constraints into the existing ones:\n",
        "$$\\begin{align*}\n",
        "\\boldsymbol{x}\\leq s\\times \\boldsymbol{1} &\\rightarrow \\boldsymbol{x} - s\\times \\boldsymbol{1} \\leq 0 \\\\\n",
        "-s\\times \\boldsymbol{1}\\leq \\boldsymbol{x} &\\rightarrow - \\boldsymbol{x} - s\\times \\boldsymbol{1} \\leq 0\n",
        "\\end{align*}$$\n",
        "\n",
        "We can append them to our constraint matrix:\n",
        "$$\\begin{align*}\n",
        "&\\begin{bmatrix} A & 0 \\\\ I & -I \\\\ -I & -I\\end{bmatrix}\\begin{bmatrix}\\boldsymbol{x} \\\\ s\\times \\boldsymbol{1} \\end{bmatrix} = \\begin{bmatrix}\\boldsymbol{b} \\\\0\\\\0 \\end{bmatrix} \\\\\n",
        "\\rightarrow &A^*\\boldsymbol{x}^* = \\boldsymbol{b}^*\n",
        "\\end{align*}$$\n",
        "\n",
        "Now we can define our linear program in canonical form:\n",
        "$$\\begin{align*}\n",
        "\\min_{\\boldsymbol{x},s} \\ &s \\\\\n",
        "\\text{s.t:} \\ &A^*\\boldsymbol{x}^*\\leq \\boldsymbol{b}^*,\n",
        "\\end{align*}$$"
      ]
    },
    {
      "cell_type": "markdown",
      "metadata": {
        "id": "s8gu19_3c2xg",
        "colab_type": "text"
      },
      "source": [
        "#### Part 3"
      ]
    },
    {
      "cell_type": "markdown",
      "metadata": {
        "id": "KkgqkCILc3Z0",
        "colab_type": "text"
      },
      "source": [
        "_Download the code template linked in the assignment description on ALF. This code generates a synthetic dataset for testing regression algorithms [here](http://nbviewer.jupyter.org/github/rohanshekhar/CS164/blob/master/lpregression.ipynb). Use the CVXPY package to solve both the $l_1$ and $l_\\infty$ optimization problems, and compute the parameters that define the line of best fit for each. Plot both lines in different colours over the scatter plot of the random datapoints._"
      ]
    },
    {
      "cell_type": "markdown",
      "metadata": {
        "id": "y1oskykmpEhM",
        "colab_type": "text"
      },
      "source": [
        "As I was implementing the solution above using numpy to construct the constraint metrix and vectors where $\\boldsymbol{x}=Y-X\\Theta$, I ran into problems with numpy's handling of concatenation of arrays of expressions with unkown dimensions. As an alternative, I simply used $Y-X\\Theta \\leq \\boldsymbol{S}$ and $Y-X\\Theta \\geq -\\boldsymbol{S}$ as equivalent expressions of the constraints. The original code is kept but commented out below."
      ]
    },
    {
      "cell_type": "code",
      "metadata": {
        "id": "dwi3KbzpbXtn",
        "colab_type": "code",
        "colab": {}
      },
      "source": [
        "# l_1 and l_infinity regression using cvxpy\n",
        "import numpy as np\n",
        "import cvxpy as cvx\n",
        "import matplotlib.pyplot as plt\n",
        "\n",
        "# generate a synthetic dataset\n",
        "\n",
        "# actual parameter values\n",
        "theta1_act = 2\n",
        "theta2_act = 5\n",
        "\n",
        "# Number of points in dataset\n",
        "N = 200\n",
        "\n",
        "# Noise magnitude\n",
        "mag = 30\n",
        "\n",
        "# datapoints\n",
        "x = np.arange(0,N)\n",
        "y = theta1_act * x + theta2_act *np.ones([1,N]) + np.random.normal(0,mag,N)\n"
      ],
      "execution_count": 0,
      "outputs": []
    },
    {
      "cell_type": "code",
      "metadata": {
        "id": "Um6Qh8RvdRf8",
        "colab_type": "code",
        "colab": {}
      },
      "source": [
        "# Redefine parameters\n",
        "n = N\n",
        "ones = np.ones(n).reshape(n,1)\n",
        "X = x.reshape(n,1)\n",
        "X = np.hstack((X,ones))\n",
        "Y = y.flatten()\n",
        "\n",
        "# Define the variables\n",
        "T_1 = cvx.Variable(2)\n",
        "T_i = cvx.Variable(2)\n",
        "S = cvx.Variable(n)\n",
        "s = cvx.Variable()\n",
        "\n",
        "# Define the objective functions\n",
        "obj_1 = cvx.Minimize(ones.T@S)\n",
        "obj_i = cvx.Minimize(s)\n",
        "\n",
        "# Define the constraints\n",
        "\n",
        "# Failed numpy attempt\n",
        "# eye = np.eye(n)\n",
        "# neye = -eye\n",
        "# A = np.block([[eye,neye],[neye,neye]])\n",
        "# u_1 = np.vstack((Y-X@T_1,S))\n",
        "# u_i = np.vstack((Y-X@T_i,s*ones))\n",
        "# b = np.zeros(n*2)\n",
        "# con_1 = [A[i]@u_1<=b[i] for i in range(0,2*n)]\n",
        "# con_i = [A[i]@u_i<=b[i] for i in range(0,2*n)]\n",
        "\n",
        "con_1 = [Y-X@T_1<=S,Y-X@T_1>=-S]\n",
        "con_i = [Y-X@T_i<=s,Y-X@T_i>=-s]\n",
        "\n",
        "# Solve the optimization problem\n",
        "prob_1 = cvx.Problem(obj_1,con_1)\n",
        "prob_i = cvx.Problem(obj_i,con_i)\n",
        "prob_1.solve();\n",
        "prob_i.solve();"
      ],
      "execution_count": 0,
      "outputs": []
    },
    {
      "cell_type": "code",
      "metadata": {
        "id": "qCeAASimYgkv",
        "colab_type": "code",
        "colab": {
          "base_uri": "https://localhost:8080/",
          "height": 265
        },
        "outputId": "9256c729-f838-4b8b-b0d0-978dd70ef5bb"
      },
      "source": [
        "# Plot\n",
        "\n",
        "l_1 = x*T_1.value[0]+T_1.value[1]\n",
        "l_i = x*T_i.value[0]+T_i.value[1]\n",
        "\n",
        "plt.figure()\n",
        "plt.scatter(x,y,c=\"k\",s=1)\n",
        "plt.plot(x,l_1,c=\"g\",label=\"Norm-1\")\n",
        "plt.plot(x,l_i,c=\"r\",label=\"Norm-infinity\")\n",
        "plt.legend()\n",
        "plt.show()"
      ],
      "execution_count": 48,
      "outputs": [
        {
          "output_type": "display_data",
          "data": {
            "image/png": "[encoded data removed]",
            "text/plain": [
              "<Figure size 432x288 with 1 Axes>"
            ]
          },
          "metadata": {
            "tags": []
          }
        }
      ]
    }
  ]
}
