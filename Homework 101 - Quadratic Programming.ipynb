{
  "nbformat": 4,
  "nbformat_minor": 0,
  "metadata": {
    "colab": {
      "name": "CS164PW101.ipynb",
      "provenance": [],
      "collapsed_sections": [],
      "authorship_tag": "ABX9TyPZv6U+LeuhpsRogVaf+idP"
    },
    "kernelspec": {
      "name": "python3",
      "display_name": "Python 3"
    }
  },
  "cells": [
    {
      "cell_type": "markdown",
      "metadata": {
        "id": "ns0PcNxeihPh",
        "colab_type": "text"
      },
      "source": [
        "#### CS164 Pre-Class Work for Session 10.1\n",
        "\n",
        "### Quadratic Programming\n",
        "_Yoav Rabinovich, Mar 2020_\n",
        "\n",
        "----------"
      ]
    },
    {
      "cell_type": "markdown",
      "metadata": {
        "id": "z1cCs4BHioll",
        "colab_type": "text"
      },
      "source": [
        "_In this exercise, we will look at the problem of portfolio optimization, which we briefly investigated in lesson 1.1. We will now use a more realistic model, where we consider risk levels and constraints on minimum rates of return. Suppose that we have a vector $\\mathbf{x} \\in \\mathbb{R}^N$, where the $i$th component $x_i$ represents the fraction of our capital that we have invested in\n",
        "asset $i$. We treat the rate of return of each asset as a random variable, where the mean rate of return is represented by a vector $\\boldsymbol{\\mu} ∈ \\mathbb{R}^N$, and the covariance matrix for the rates of return over all assets is denoted $C \\in \\mathbb{R}^{N\\times N}$. One way to allocate assets is to minimize\n",
        "risk, subject to our portfolio making some minimum rate or return._"
      ]
    },
    {
      "cell_type": "markdown",
      "metadata": {
        "id": "7Lug_OatkcIJ",
        "colab_type": "text"
      },
      "source": [
        "**(1)** _Explain why the quadratic form $\\frac{1}{2}\\mathbf{x}^T C\\mathbf{x}$ provides a measure of overall portfolio risk. This is what we want to minimize._\n",
        "\n",
        "Reducing covariance in our portfolio will reduce the correlation between our assets. That is, if one asset drops in value, we minimize the amount by which other assets are likely to drop in value as well. Diversification of assets only reduces risk if the assets are not correlated: Investing in beef and milk is not a risky form of \"diversification\", for instance.\n",
        "\n"
      ]
    },
    {
      "cell_type": "markdown",
      "metadata": {
        "id": "dUubhijhkjqz",
        "colab_type": "text"
      },
      "source": [
        "**(2)** _Let $r$ denote the minimum rate of return for the portfolio. Explain why this translates into a constraint $\\boldsymbol{\\mu}^T \\mathbf{x} \\geq r$_.\n",
        "\n",
        "Since the rate of return for each asset is embodied in the vector $\\boldsymbol{\\mu}$, its inner product with the portfolio $\\mathbf{x}$ represents the rate of return of a specific portfolio. As $r$ sets a lower bound for the return, we get the constraint. "
      ]
    },
    {
      "cell_type": "markdown",
      "metadata": {
        "id": "hT5rdYPtkxfW",
        "colab_type": "text"
      },
      "source": [
        "**(3)** _Explain why we additionally need the (element-wise) constraint $x \\geq 0$ and the equality constraint $\\sum_i x_i = 1$._\n",
        "\n",
        "The normalization constraint reflects our fractional representation of the portfolio: rather than assigning dollar values to investments in the portfolio, we generalize it and represent the relative portion of the protfolio we recommend to invest in any stock regardless of the total amount. These fractions then add up to one whole sum. In that sense, we also can't invest negative fracitons of our investment money into stocks, otherwise we could split the portfolio into arbitrary positive and negative amounts that add up to one, on top of how we can't invest negative dollars in stocks anyway, hence the positivity constraints.\n"
      ]
    },
    {
      "cell_type": "markdown",
      "metadata": {
        "id": "Zs0MFv8alF9l",
        "colab_type": "text"
      },
      "source": [
        "**(4)** _A dataset of $225$ different assets can be found [here](http://people.brunel.ac.uk/~mastjjb/jeb/orlib/files/port5.txt). The first line of the file tells us the number of assets ($225$). The next $225$ lines list the mean rate of return and standard deviation for each of the $225$ assets. The final $113 \\times 225$ lines tell us the correlation between the rates of return of the different assets: the first and second column are two assets $i$ and $j$, and the third column is the correlation between asset $i$ and asset $j$. Note that only the upper triangle of this matrix is specified, since correlations must be symmetric._\n",
        "\n",
        "(a) _Load the data into Python (pre-processing if necessary) and create a vector\n",
        "$\\mu$ for the mean rate of return, a vector σ for the standard deviations, and a\n",
        "matrix $K$ for the correlations._\n",
        "\n",
        "(b) _Compute the covariance matrix $C$ by using the identity $C_{ij} = K_{ij}\\sigma_i\\sigma_j$._\n",
        "\n",
        "(c) _Using the cost and constraints described above, create and solve a quadratic program using CVXPY to find the optimal asset allocation, assuming a minimum return rate of $0.2\\%$. Are there some assets in which we practically would not invest in this case?_\n"
      ]
    },
    {
      "cell_type": "code",
      "metadata": {
        "id": "Fq_6cnQiiCxb",
        "colab_type": "code",
        "colab": {}
      },
      "source": [
        "# Imports\n",
        "import numpy as np\n",
        "import cvxpy as cp\n",
        "from tabulate import tabulate"
      ],
      "execution_count": 0,
      "outputs": []
    },
    {
      "cell_type": "code",
      "metadata": {
        "id": "DmMA9svMp18W",
        "colab_type": "code",
        "colab": {}
      },
      "source": [
        "# Data\n",
        "#http://people.brunel.ac.uk/~mastjjb/jeb/orlib/files/port5.txt)\n",
        "n = int(np.loadtxt(\"port5.txt\",max_rows=1))\n",
        "data = np.loadtxt(\"port5.txt\",skiprows=1,max_rows=n)\n",
        "data_cor = np.loadtxt(\"port5.txt\",skiprows=n+1)"
      ],
      "execution_count": 0,
      "outputs": []
    },
    {
      "cell_type": "code",
      "metadata": {
        "id": "ym8TBkUpwOGk",
        "colab_type": "code",
        "colab": {}
      },
      "source": [
        "# Preprocessing\n",
        "mu = data[:,0]\n",
        "sigma = data[:,1]\n",
        "K = np.zeros(shape=(n,n))\n",
        "C = np.zeros(shape=(n,n))\n",
        "for row in data_cor:\n",
        "    K[int(row[0])-1,int(row[1])-1] = row[2]\n",
        "    K[int(row[1])-1,int(row[0])-1] = row[2]\n",
        "    C[int(row[0])-1,int(row[1])-1] = row[2]*sigma[int(row[0])-1]*sigma[int(row[1])-1]\n",
        "    C[int(row[1])-1,int(row[0])-1] = row[2]*sigma[int(row[0])-1]*sigma[int(row[1])-1]\n",
        "\n",
        "r = 0.002"
      ],
      "execution_count": 0,
      "outputs": []
    },
    {
      "cell_type": "code",
      "metadata": {
        "id": "kPf3oOy5pV-D",
        "colab_type": "code",
        "colab": {}
      },
      "source": [
        "# Optimization\n",
        "x = cp.Variable(n)\n",
        "obj = cp.Minimize((1/2)*cp.quad_form(x, C))\n",
        "const = [mu.T @ x >= r,\n",
        "               cp.sum(x) == 1,\n",
        "               x >= 0]\n",
        "prob = cp.Problem(obj,const)\n",
        "prob.solve()"
      ],
      "execution_count": 0,
      "outputs": []
    },
    {
      "cell_type": "code",
      "metadata": {
        "id": "vBPjYH1-5kZL",
        "colab_type": "code",
        "colab": {
          "base_uri": "https://localhost:8080/",
          "height": 134
        },
        "outputId": "0aca880c-07b2-49b2-c873-77e8b04ca75a"
      },
      "source": [
        "# Result\n",
        "m = 10\n",
        "print(\"Minimum risk:\", prob.value)\n",
        "print(\"Top\",m,\"investments:\")\n",
        "indexed = np.concatenate((np.arange(1,n+1).reshape((1,n)),\n",
        "                        x.value.reshape((1,n))),axis=0)\n",
        "top = indexed[:,np.argsort(indexed[1])[::-1]]\n",
        "table = tabulate(top[:,:m], tablefmt=\"fancy_grid\", floatfmt = \".3f\")\n",
        "print(table)"
      ],
      "execution_count": 145,
      "outputs": [
        {
          "output_type": "stream",
          "text": [
            "Minimum risk: 0.00019491212566550894\n",
            "Top 10 investments:\n",
            "╒════════╤════════╤═════════╤════════╤════════╤═══════╤═════════╤═════════╤════════╤═════════╕\n",
            "│ 62.000 │ 60.000 │ 196.000 │ 40.000 │ 43.000 │ 9.000 │ 129.000 │ 215.000 │ 97.000 │ 171.000 │\n",
            "├────────┼────────┼─────────┼────────┼────────┼───────┼─────────┼─────────┼────────┼─────────┤\n",
            "│  0.257 │  0.120 │   0.098 │  0.087 │  0.081 │ 0.080 │   0.074 │   0.069 │  0.059 │   0.057 │\n",
            "╘════════╧════════╧═════════╧════════╧════════╧═══════╧═════════╧═════════╧════════╧═════════╛\n"
          ],
          "name": "stdout"
        }
      ]
    }
  ]
}