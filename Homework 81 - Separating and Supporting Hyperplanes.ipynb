{
  "nbformat": 4,
  "nbformat_minor": 0,
  "metadata": {
    "colab": {
      "name": "CS164PW81.ipynb",
      "provenance": [],
      "authorship_tag": "ABX9TyOmMzjJr3NE2E8tJkD8VYqb"
    },
    "kernelspec": {
      "name": "python3",
      "display_name": "Python 3"
    }
  },
  "cells": [
    {
      "cell_type": "markdown",
      "metadata": {
        "id": "fnLU_R73IwTv",
        "colab_type": "text"
      },
      "source": [
        "####CS164 Preclass Work for Session 8.1\n",
        "\n",
        "### The Separating Hyperplane and Supporting Hyperplane Theorems\n",
        "_Yoav Rabinovich, Mar 20_\n",
        "\n",
        "---------------------"
      ]
    },
    {
      "cell_type": "markdown",
      "metadata": {
        "id": "C08FfLGSI5M-",
        "colab_type": "text"
      },
      "source": [
        "**(1)** _Explain in your own words how to prove the separating hyperplane theorem in section 2.5.1 of Boyd & Vandenberghe. Be sure to state the special case that has been considered in the proof._\n",
        "\n",
        "The special case considered in the proof is a space with distance defined as Euclidean and strictly non-negative. The proof relies on the distance between points $d$ and $c$ to be broken down into $(d-c)^T(\\frac{d-c}{2})$, and for the expression $||d-c||^2_2$ to be positive. It's also important that there is a pair of points $d \\in D$ and $c \\in C that achieve the minimum distance between the sets (excluding things like empty sets), but I believe that is guaranteed in a convex set. \n",
        "\n",
        "If we take the line between the two nearest points in sets $C$ and $D$ ($c$ and $d$ respectively), $d-c$, we can prove that a perpendicular hyperplane intersecting it midway, $f(x) = (d-c)^Tx-\\frac{||d||^2_2-||c||^2_2}{2}$, will have $C$ completely in its negative half-space and $D$ completely in its positive half-space (or vice versa), with a proof by contradiction.\n",
        "\n",
        "If we let a point $u \\in D$ to violate the lemma and be in the negative half-space, $f(u) < 0$, we can re-express $f(u)$:\n",
        "\n",
        "$$f(u) = (d-c)^Tu-\\frac{||d||^2_2-||c||^2_2}{2} = (d-c)^T(u-d)+(\\frac{||d-c||^2_2}{2})$$\n",
        "\n",
        "And since $f(u)$ is negative and distances are positive, we have that $(d-c)^T(u-d) < 0$\n",
        "\n",
        "However, let's take a point interpolated between $d$ and $u$, $tu+d(1-t)=d+t(u-d)$, and examine its distance to $c$. The expression above happens to be proportional to the derivative, when evaluated at $t=0$ of that distance function $||d+t(u-d)-c||^2_2$. Since it's derivative at $t=0$ is negative, if we nudge $t$ to a small positive value, the distance is lowered and the point is closer to $c$ than $d$ is. The problem is that we've defined $d$ to be the closest point to $c$ in $D$, and since $D$ is convex and contains both $d$ and $u$, then any point on a line segment between them is also in $D$, so we have a contradiction."
      ]
    },
    {
      "cell_type": "markdown",
      "metadata": {
        "id": "CI7TCpPHJBYy",
        "colab_type": "text"
      },
      "source": [
        "**(2)** _Exercise 2.23 in Boyd & Vandenberghe: Midpoint convexity._\n",
        "\n",
        "_A set $C$ is midpoint convex if whenever two points $a, b$ are in $C$, the average or midpoint $(a + b)/2$ is in $C$. Obviously a convex set is midpoint convex. It can be proved that under mild conditions midpoint convexity implies convexity. As a simple case, prove that if $C$ is closed and midpoint convex, then $C$ is convex._\n",
        "\n",
        "If we can prove that for any point in the line segment between $a$ and $b$, a closed midpoint-convex set $C=[a,b]$ contains it, we have proved that $C$ is convex. We can achieve this by following a simple iterative approach similar to the binary search algorithm.\n",
        "\n",
        "A line segment between $a$ and $c$ can be written as $ax-b(1-x)$ for any $x \\in [0,1]$. So if we can approximate such points for any $x$ arbitrarily closely in $C$, the proof is complete. We start by examining $C_0=[a,b]$, and step towards the point defined by $x$ by halving the interval: If $ax-b(1-x) \\in [a,\\frac{a+b}{2}]$, we define $C_1 = [a,\\frac{a+b}{2}]$. Otherwise $x$ must be in $(\\frac{a+b}{2},b]$, so we define $C_1 = [\\frac{a+b}{2},b]$. We then repeat the process, creating a series of closed intervals, the intersection of which converges eventually to $ax-b(1-x)$. Since this can be done for any $x \\in [0,1]$, and since we've reached $ax-b(1-x)$ by taking midpoints beginning with $[a,b]$, we have proven that a closed midpoint-convex set is convex."
      ]
    }
  ]
}
