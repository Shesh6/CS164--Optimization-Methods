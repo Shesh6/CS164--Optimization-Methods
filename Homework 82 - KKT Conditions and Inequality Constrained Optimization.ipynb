{
  "nbformat": 4,
  "nbformat_minor": 0,
  "metadata": {
    "colab": {
      "name": "CS164PW82.ipynb",
      "provenance": [],
      "collapsed_sections": [],
      "authorship_tag": "ABX9TyMa6/yNxc6U5sKhCOB3ZOrw"
    },
    "kernelspec": {
      "name": "python3",
      "display_name": "Python 3"
    }
  },
  "cells": [
    {
      "cell_type": "markdown",
      "metadata": {
        "id": "ePc_Up8PpH1Z",
        "colab_type": "text"
      },
      "source": [
        "####CS164 Preclass Work for Session 8.2\n",
        "\n",
        "###Inequality Constrained Optimization: the KKT Conditions\n",
        "_Yoav Rabinovich, Mar 20_\n",
        "\n",
        "---------------"
      ]
    },
    {
      "cell_type": "markdown",
      "metadata": {
        "id": "TKS_H2vipQRT",
        "colab_type": "text"
      },
      "source": [
        "_An optimization problem of the form_\n",
        "\n",
        "$$\\begin{align*}\n",
        "\\min_x &f(x) = \\frac{1}{2}\\mathbf{x}^T Q \\mathbf{x} + \\mathbf{r}^T \\mathbf{x}\\\\\n",
        "\\text{s.t:} \\ &A\\mathbf{x}\\leq \\mathbf{b}\\\\\n",
        "&C\\mathbf{x}=\\mathbf{d}\n",
        "\\end{align*}$$\n",
        "\n",
        "_for suitably-dimensioned matrices $Q, r, A, b, C$, and $d$, is known as a quadratic program (QP). It is convex if $Q$ is positive definite. Write out the KKT conditions for optimality of this problem._"
      ]
    },
    {
      "cell_type": "markdown",
      "metadata": {
        "id": "3dxZk5S8tt41",
        "colab_type": "text"
      },
      "source": [
        "For some pair of vectors $\\boldsymbol{\\lambda} \\in \\mathbb{R}^m_+$ and $\\boldsymbol{\\mu} \\in \\mathbb{R}^n_+$, where $m,n$ stand for the dimensions and $\\mathbf{d},\\mathbf{b}$ respectively:\n",
        "\n",
        "- Stationarity constraint for minimization:\n",
        "\n",
        "$$\\begin{align*}\n",
        "&\\nabla_\\mathbf{x} f(\\mathbf{x})  + \\underset{i=1}{\\overset{m}{\\sum}}  \\lambda_i\\nabla_\\mathbf{x} h_i(\\mathbf{x}) + \\underset{i=1}{\\overset{n}{\\sum}} \\mu_i \\nabla_\\mathbf{x} g_i(\\mathbf{x}) \\\\\n",
        "= &\\frac{\\mathbf{x}^T Q}{2}-\\mathbf{r} + \\boldsymbol{\\lambda}^T C + \\boldsymbol{\\mu}^T A = \\mathbf{0}\\\\\n",
        "\\end{align*}$$\n",
        "\n",
        "- Equality constraints:\n",
        "\n",
        "$$\\begin{align*}\n",
        "&\\nabla_\\boldsymbol{\\lambda} f(\\mathbf{x})  + \\underset{i=1}{\\overset{m}{\\sum}}  \\nabla_\\boldsymbol{\\lambda} \\lambda_i h_i(\\mathbf{x}) + \\underset{i=1}{\\overset{n}{\\sum}} \\mu_i \\nabla_\\boldsymbol{\\lambda} g_i(\\mathbf{x}) \\\\\n",
        "= &C\\mathbf{x}-\\mathbf{d}= \\mathbf{0}\\\\\n",
        "\\end{align*}$$\n",
        "\n",
        "- Complementary slackness constraint:\n",
        "\n",
        "$$\\begin{align*}\n",
        "&\\boldsymbol{\\mu}h(\\mathbf{x})=\\mathbf{0}\\\\\n",
        "= &\\boldsymbol{\\mu}(A\\mathbf{x}-\\mathbf{b})=\\mathbf{0}&\n",
        "\\end{align*}$$"
      ]
    }
  ]
}
