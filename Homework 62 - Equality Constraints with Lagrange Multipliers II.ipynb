{
  "nbformat": 4,
  "nbformat_minor": 0,
  "metadata": {
    "colab": {
      "name": "CS164PW62.ipynb",
      "provenance": [],
      "authorship_tag": "ABX9TyOGFSJMnFJ/C1ZCVnq2JXPy"
    },
    "kernelspec": {
      "name": "python3",
      "display_name": "Python 3"
    }
  },
  "cells": [
    {
      "cell_type": "markdown",
      "metadata": {
        "id": "M8W02vF8BswB",
        "colab_type": "text"
      },
      "source": [
        "#### CS164 Preclass Work for Session 6.2\n",
        "\n",
        "### Equality Constraints with Lagrange Multipliers II\n",
        "_Yoav Rabinovich, Feb 20_\n",
        "\n",
        "----------"
      ]
    },
    {
      "cell_type": "markdown",
      "metadata": {
        "id": "IKXEhYxkB1gE",
        "colab_type": "text"
      },
      "source": [
        "**(1)** _A chain comprises $N$ straight segments of length $l$, each having mass $m$. Assume that the ends of the chain are anchored at two points along the $x$ axis, namely $−w/2$ and $w/2$, with $Nl > w$. The chain hangs downwards under gravity. We will number the chain segments from $i = 1 . . . N$, denoting the $y$ coordinate of the left-hand edge of each link by $y_i$. We will define a height $y_{N+1} = 0$ for convenience. Finally, we will denote the angle of each segment from the horizontal as $\\theta_i$._"
      ]
    },
    {
      "cell_type": "markdown",
      "metadata": {
        "id": "PD-vbHdzDT9C",
        "colab_type": "text"
      },
      "source": [
        "\n",
        "_(a) Show that the joining constraint for the chain segments can be written as_\n",
        "\n",
        "$$y_{i+1}=y_i+l\\sin{\\theta_i}$$\n",
        "\n",
        "_for all $i = 1 . . . N$._\n",
        "\n",
        "We require that the leftmost point of each segment is set at the leftmost point of the previous segment. The height is then the height of the previous segment, plus the projection of that segment onto the vertical plane, given by the sine of the angle of the segment times its length (from the trig identity $\\sin(\\theta) = \\frac{\\text{opposite}}{\\text{hypotenuse}} = \\frac{l_y}{l} \\rightarrow l\\sin{\\theta} = l_y$). This projection will be negative or positive depending on the angle $\\theta$.\n"
      ]
    },
    {
      "cell_type": "markdown",
      "metadata": {
        "id": "YlQ1hAtIFi27",
        "colab_type": "text"
      },
      "source": [
        "_(b) If the centre of mass of each link lies halfway along its length, show that the centre of mass height for the ith link is given by_\n",
        "\n",
        "$$\\bar{y}_i = \\frac{1}{2}(y_i+y_{i+1})$$\n",
        "\n",
        "From part (a), if we consider the projection of a point halfway along the length on the vertical axis:\n",
        "$$\\bar{y}_i = y_i+\\frac{l}{2}\\sin{\\theta_i} = y_i+\\frac{y_{i+1}}{2}-\\frac{y_i}{2}=\\frac{1}{2}(y_i+y_{i+1})$$"
      ]
    },
    {
      "cell_type": "markdown",
      "metadata": {
        "id": "tv44i8C5G7L_",
        "colab_type": "text"
      },
      "source": [
        "_(c) The total potential energy of the chain is given by_\n",
        "\n",
        "$$P=mg\\sum_{i=1}^N \\bar{y}_i$$\n",
        "\n",
        "_for constant $g$. Given that the chain should hang in a minimum energy configuration, write out (but do not solve) the optimization problem required to\n",
        "find the heights of the chain segments. How many variables and how many Lagrange multipliers are required?_\n",
        "\n",
        "$$\\min_\\boldsymbol{\\theta} P = mg\\sum_{i=1}^N \\frac{1}{2}(2y_i+l\\sin{\\theta_i})$$\n",
        "$$\\text{s.t:} \\ \\{y_{i+1}=y_i+l\\sin{\\theta_i} | \\forall i = 1,2,...,N-1\\},\n",
        "\\\\ y_{N+1} = 0 \n",
        "\\\\ y_1 = y_{N+1},\n",
        "\\\\ \\sum_{i=1}^N l\\cos\\theta_i = w$$\n",
        "\n",
        "Assuming we have constant predefined values for $N,l,w,g,m$ and $y_1$, the variables are the angles for each segment, of which there are $N$, and the constraints which require Lagrange multipliers are one for each connection of segments, plus the constraints at $y_{N+1}$ and $y_1$, and the width constraint, which makes $N+2$ multipliers.\n",
        "\n",
        "Note:\n",
        "- Alternatively, we can use two constraints to constrain width, if we care where on the x-axis the chain is located, but this should have no effect on the potential energy in a constant gravitational field. Note that we need two constraints for the vertical axis, since the absolute height contributes to potential energy.\n",
        "\n"
      ]
    }
  ]
}