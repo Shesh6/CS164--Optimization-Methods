{
  "nbformat": 4,
  "nbformat_minor": 0,
  "metadata": {
    "colab": {
      "name": "CS164PW31.ipynb",
      "provenance": [],
      "collapsed_sections": [],
      "authorship_tag": "ABX9TyNNIYjKaXk+qY1BvYiYvV8q"
    },
    "kernelspec": {
      "name": "python3",
      "display_name": "Python 3"
    }
  },
  "cells": [
    {
      "cell_type": "markdown",
      "metadata": {
        "id": "KUy7C2QUaf8N",
        "colab_type": "text"
      },
      "source": [
        "#### CS164 Preclass Work for Session 3.1\n",
        "\n",
        "### Basics of Real Analysis 4: Continuous functions and the Weierstrass Theorem\n",
        "_Yoav Rabinovich, Jan 20_\n",
        "\n",
        "-----------"
      ]
    },
    {
      "cell_type": "markdown",
      "metadata": {
        "id": "qKQX56d4avmG",
        "colab_type": "text"
      },
      "source": [
        "#### Tench 2.2.2\n",
        "*Prove that a function $f$ is continuous at $x_0$ if and only if*\n",
        "$$\\lim_{x\\rightarrow x_0-}{f(x)}=\\lim_{x\\rightarrow x_0+}{f(x)}=f(x_0)$$\n",
        "\n",
        "If $\\lim_{x\\rightarrow x_0-}{f(x)} = f(x_0)$ is true, then for any $\\epsilon >0$ there exists a $\\delta >0$ where any $a \\in (x_0-\\delta,x_0)$ obeys $|f(a)-f(x_0)|<\\epsilon$. Similarly, if $\\lim_{x\\rightarrow x_0+}{f(x)} = f(x_0)$ is true, then for any $\\epsilon >0$ there exists a $\\delta >0$ where any $a \\in (x_0,x_0+\\delta)$ obeys $|f(a)-f(x_0)|<\\epsilon$. Therefore, for any $\\epsilon$, the smaller of the $\\delta$s will allow an $a \\in (x_0-\\delta,x_0+\\delta)$ that obeys $|f(a)-f(x_0)|<\\epsilon$, which is continuity as defined in the readings."
      ]
    },
    {
      "cell_type": "markdown",
      "metadata": {
        "id": "JiFnPpr9awRH",
        "colab_type": "text"
      },
      "source": [
        "#### Tench 2.2.3\n",
        "*Determine whether $f$ is continuous or discontinuous from the right or left at $x_0$.*\n",
        "\n",
        "$\\textbf{(a)} f(x)=\\sqrt{x} \\ (x_0=0)$: Continuous from the right at $x_0$.\n",
        "\n",
        "$\\textbf{(b)} f(x)=\\sqrt{x} \\ (x_0>0)$: Continuous both from the right and the left at $x_0$.\n",
        "\n",
        "$\\textbf{(c)} f(x)=\\frac{1}{x} \\ (x_0=0)$: Continuous neither from the right nor the left at $x_0$.\n",
        "\n",
        "$\\textbf{(d)} f(x)=x^2$: Continuous both from the right and the left at any $x$.\n",
        "\n",
        "$\\textbf{(e)} f(x)=\\bigg\\{x\\sin{\\frac{1}{x}}, \\ x\\neq 0; \\ 1, \\ x=0 \\ (x_0=0)$: Continuous neither from the right nor the left at $x_0$.\n",
        "\n",
        "$\\textbf{(f)} f(x)=\\bigg\\{x\\sin{\\frac{1}{x}}, \\ x\\neq 0; \\ 0, \\ x=0 \\ (x_0=0)$: Continuous both from the right and the left at $x_0$.\n",
        "\n",
        "$\\textbf{(g)} f(x)=\\bigg\\{\\frac{x+|x|(1+x)}{x}\\sin{\\frac{1}{x}}, \\ x\\neq 0; \\ 1, \\ x=0 \\ (x_0=0)$: Continuous from the left at $x_0$."
      ]
    },
    {
      "cell_type": "markdown",
      "metadata": {
        "id": "lo1oXM5pasiG",
        "colab_type": "text"
      },
      "source": [
        "#### Tench 2.2.4\n",
        "*Let $f$ be defined on $[0,2]$ by*\n",
        "$$f(x)=\\bigg\\{x^2, \\ 0\\leq x<1; \\ x+1, \\ 1\\leq x \\leq 2$$\n",
        "*On which of the following intervals is $f$ continuous according to Definition 2.2.3:* $[0,1),(0,1),(0,1],[0,1],[1,2),(1,2),(1,2],[1,2]$?\n",
        "\n",
        "$[0,1),(0,1),[1,2),(1,2),(1,2],[1,2]$."
      ]
    }
  ]
}