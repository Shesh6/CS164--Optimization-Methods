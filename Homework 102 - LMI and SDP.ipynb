{
  "nbformat": 4,
  "nbformat_minor": 0,
  "metadata": {
    "colab": {
      "name": "CS164PW102.ipynb",
      "provenance": [],
      "collapsed_sections": [],
      "authorship_tag": "ABX9TyMyb4gz5JBvzvSU4qmqPUE+"
    },
    "kernelspec": {
      "name": "python3",
      "display_name": "Python 3"
    }
  },
  "cells": [
    {
      "cell_type": "markdown",
      "metadata": {
        "id": "0evvJAg1F7YV",
        "colab_type": "text"
      },
      "source": [
        "#### CS164 Pre-Class Work for Session 10.2\n",
        "\n",
        "### LMIs and Semidefinite Programming\n",
        "_Yoav Rabinovich, Mar 2020_\n",
        "\n",
        "----------"
      ]
    },
    {
      "cell_type": "markdown",
      "metadata": {
        "id": "e9Z3NauEGEtp",
        "colab_type": "text"
      },
      "source": [
        "_A university has decided to construct a grassy (elliptical) oval in an area bounded by existing buildings. Unfortunately, the area is not itself elliptical. The available land area is bounded by a quadrilateral with vertices (0,0), (0,100), (150,150) and (300,0), where all distances are in metres. Determine the dimensions of the largest elliptical garden that will fit in the space bounded by these vertices, in terms of its center and its semi-major and semi-minor axes._\n",
        "\n",
        "**Objective function**: The volume of an ellipse is proportional to the determinant of its characteristic matrix $Q$. Since we require $Q$ to be positive semi-definite, we can use the concave function $\\log \\det Q$ as a maximization objective.\n",
        "\n",
        "**Constraints**: To be inscribed in a polyhedron, all points in the ellipse must satisfy $a_i^T x \\leq b_i, i = 1,...,m$ for $m$ linear constraints. If substitute into $x$ the form of an ellipse, we see that the ellipse must satisfy $|| Q a_i || + a_i^T c <= b_i, i = 1,...,m$."
      ]
    },
    {
      "cell_type": "code",
      "metadata": {
        "id": "q9iFunTDfYoQ",
        "colab_type": "code",
        "colab": {}
      },
      "source": [
        "import numpy as np\n",
        "import cvxpy as cp\n",
        "import matplotlib.pyplot as plt"
      ],
      "execution_count": 0,
      "outputs": []
    },
    {
      "cell_type": "code",
      "metadata": {
        "id": "6LVA2m_khpnb",
        "colab_type": "code",
        "outputId": "ce6b632e-de9e-46ca-980c-db5b76e3b393",
        "colab": {
          "base_uri": "https://localhost:8080/",
          "height": 33
        }
      },
      "source": [
        "# Define the vertices\n",
        "vert_x = 100*np.array([0,0,1.5,3,0])\n",
        "vert_y = 100*np.array([0,1,1.5,0,0])\n",
        "\n",
        "# Define the lines for the boundary of the oval\n",
        "\n",
        "A = np.array([[-1 , 0], [0 , -1], [-1/3 , 1], [1, 1]])\n",
        "b = 100*np.array([[0,0,1,3]]).T\n",
        "\n",
        "# Define the variables for the ellipse {c + Ex}\n",
        "\n",
        "c = cp.Variable((2,1))\n",
        "E = cp.Variable((2,2), PSD = True)\n",
        "\n",
        "# Define the objective function\n",
        "obj = cp.Maximize(cp.log_det(E))\n",
        "\n",
        "# Define the constraints\n",
        "con = [A[j]*c + cp.norm(A[j]*E,2) <= b[j] for j in range(0,len(b))]\n",
        "\n",
        "# Solve the optimization problem\n",
        "prob = cp.Problem(obj,con)\n",
        "prob.solve()"
      ],
      "execution_count": 0,
      "outputs": [
        {
          "output_type": "execute_result",
          "data": {
            "text/plain": [
              "8.857946242481223"
            ]
          },
          "metadata": {
            "tags": []
          },
          "execution_count": 9
        }
      ]
    },
    {
      "cell_type": "code",
      "metadata": {
        "id": "jdIoPkuqYW1V",
        "colab_type": "code",
        "outputId": "af5769ba-a940-4e8a-a473-2c79fdd1e82e",
        "colab": {
          "base_uri": "https://localhost:8080/",
          "height": 265
        }
      },
      "source": [
        "plt.figure()\n",
        "plt.plot(vert_x,vert_y)\n",
        "# Create ellipse\n",
        "points = np.arange(0,101)*2*np.pi/100\n",
        "e_points = (np.kron(c.value,np.ones([1,101])) +  E.value @ [np.cos(points),np.sin(points)])\n",
        "plt.plot(e_points[0].T,e_points[1].T)\n",
        "plt.plot(c.value[0],c.value[1],'.')\n",
        "evalue,evec = np.linalg.eigvals(E.value)\n",
        "\n",
        "plt.show()"
      ],
      "execution_count": 0,
      "outputs": [
        {
          "output_type": "display_data",
          "data": {
            "image/png": "[encoded data removed]",
            "text/plain": [
              "<Figure size 432x288 with 1 Axes>"
            ]
          },
          "metadata": {
            "tags": []
          }
        }
      ]
    }
  ]
}