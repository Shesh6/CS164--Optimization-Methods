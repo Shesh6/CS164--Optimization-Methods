{
  "nbformat": 4,
  "nbformat_minor": 0,
  "metadata": {
    "colab": {
      "name": "CS164PW52.ipynb",
      "provenance": [],
      "collapsed_sections": [],
      "authorship_tag": "ABX9TyMWC3s4dclWhg80r+Q8NYmd"
    },
    "kernelspec": {
      "name": "python3",
      "display_name": "Python 3"
    }
  },
  "cells": [
    {
      "cell_type": "markdown",
      "metadata": {
        "id": "Cd3OQq4ePBi2",
        "colab_type": "text"
      },
      "source": [
        "#### CS164 Preclass Work for Session 5.2\n",
        "\n",
        "### Equality Constraints with Lagrange Multipliers I\n",
        "_Yoav Rabinovich, Feb 20_\n",
        "\n",
        "----------------------"
      ]
    },
    {
      "cell_type": "markdown",
      "metadata": {
        "id": "6ekGQL1dPJ7M",
        "colab_type": "text"
      },
      "source": [
        "**(1)** _Use Lagrange Multipliers to find the global maximum and minimum values of $f(x, y) = x^2 + 2y^2 − 4y$, subject to the constraint $x^2 + y^2 = 9$. Note that no second derivative test is needed here - simply look at the function values at each critical point._\n",
        "\n",
        "We define the Lagrangian: $\\mathcal{L} = f(x,y)-\\lambda (g(x,y)-c) = x^2 + 2y^2 − 4y - \\lambda(x^2 + y^2 - 9)$.\n",
        "\n",
        "We set its gradient to zero: $\\nabla \\mathcal{L} = \\textbf{0}$, yielding the system of equations:\n",
        "\n",
        "$$\\nabla \\mathcal{L} = \\begin{bmatrix}\n",
        "\\mathcal{L}_x(x,y,\\lambda)\\\\ \n",
        "\\mathcal{L}_y(x,y,\\lambda)\\\\\n",
        "\\mathcal{L}_\\lambda(x,y,\\lambda)\n",
        "\\end{bmatrix} = \\begin{bmatrix}\n",
        "2x-2\\lambda x\\\\\n",
        "4y -4 -2\\lambda y\\\\\n",
        "x^2+y^2-9\n",
        "\\end{bmatrix} = \\begin{bmatrix}\n",
        "0\\\\\n",
        "0\\\\\n",
        "0\n",
        "\\end{bmatrix}$$\n",
        "\n",
        "which we then solve to yield four solutions: $(x^*,y^*,\\lambda^*)=(\\pm \\sqrt{5}, 2, 1),(0, 3, 4/3),(0,-3,8/3)$. Plugging them into the cost function, we can classify the critical points we found: $f(\\pm \\sqrt{5},0) = 5, f(0,3) = 6, f(0,-3) = 30$. Therefore,subject to the constraint, the global maximum is 30 at $(0,-3)$, and the global minimua are 5 at $(\\pm \\sqrt{5},3)$."
      ]
    },
    {
      "cell_type": "markdown",
      "metadata": {
        "id": "O0HZ_iACT2Zj",
        "colab_type": "text"
      },
      "source": [
        "**(2)** _A manufacturer’s production is modeled by the Cobb-Douglas function:_\n",
        "\n",
        "$$f(x, y) = 100x^{3/4}y^{1/4}$$\n",
        "\n",
        "_where $x$ represents the units of labor, $y$ represents the units of capital and $f(x, y)$ represents the production level. Each labor unit costs \\\\$200 and each capital unit costs \\\\$250. The total expenses for labor and capital cannot exceed \\\\$50,000._\n",
        "\n",
        "_Given the form of the cost function, we can be sure that the maximum will occur when the labor and capital expenses are exactly at their maximum total value._\n",
        "\n",
        "We formulate the constraint as $200x+250y=50,000 \\rightarrow y=-\\frac{4}{5}x+200$"
      ]
    },
    {
      "cell_type": "markdown",
      "metadata": {
        "id": "BjXftynFUjus",
        "colab_type": "text"
      },
      "source": [
        "**(a)** _Plot level sets of the production function and total cost constraint to graphically estimate the maximum production level._"
      ]
    },
    {
      "cell_type": "code",
      "metadata": {
        "id": "QJJUbGsjUh0z",
        "colab_type": "code",
        "colab": {}
      },
      "source": [
        "# Imports\n",
        "import numpy as np\n",
        "import matplotlib.pyplot as plt\n",
        "%matplotlib inline"
      ],
      "execution_count": 0,
      "outputs": []
    },
    {
      "cell_type": "code",
      "metadata": {
        "id": "KByuSj-dVxlp",
        "colab_type": "code",
        "colab": {}
      },
      "source": [
        "# Production and constraint functions\n",
        "f = lambda x,y: 100*(x**(3/4))*(y**(1/4))\n",
        "g = lambda x: (-4/5)*x+200\n",
        "g2 = lambda x: (-4/5)*x+205"
      ],
      "execution_count": 0,
      "outputs": []
    },
    {
      "cell_type": "code",
      "metadata": {
        "id": "x1VwVeiMUuKO",
        "colab_type": "code",
        "outputId": "aefa5e00-9b3d-4ab2-ba08-56e3a0ae4807",
        "colab": {
          "base_uri": "https://localhost:8080/",
          "height": 269
        }
      },
      "source": [
        "# Plotting\n",
        "vrange = np.linspace(0,300,100)\n",
        "X, Y = np.meshgrid(vrange, vrange)\n",
        "Z = np.empty(X.shape)\n",
        "for i in range(X.shape[0]):\n",
        "    for j in range(X.shape[1]):\n",
        "        Z[i,j] = f(X[i,j],Y[i,j])\n",
        "\n",
        "plt.contourf(X,Y,Z,cmap=\"Greens\")\n",
        "plt.plot(vrange,[g(x) for x in vrange],c=\"r\",label=\"c = 50,000\")\n",
        "plt.plot(vrange,[g2(x) for x in vrange],c=\"grey\",label=\"c = 51,000\")\n",
        "plt.scatter(187.5,50,c=\"black\",label=\"M*\")\n",
        "plt.legend()\n",
        "plt.xlim(0,300)\n",
        "plt.ylim(0,300)\n",
        "plt.show()"
      ],
      "execution_count": 0,
      "outputs": [
        {
          "output_type": "display_data",
          "data": {
            "image/png": "[encoded data removed]",
            "text/plain": [
              "<Figure size 432x288 with 1 Axes>"
            ]
          },
          "metadata": {
            "tags": []
          }
        }
      ]
    },
    {
      "cell_type": "markdown",
      "metadata": {
        "id": "rN88coJmYxco",
        "colab_type": "text"
      },
      "source": [
        "**(b)** _Find the maximum production level exactly using the method of Lagrange\n",
        "Multipliers._\n",
        "\n",
        "As in problem (1), we define the Lagrangian using the cost and constraint functions from the problem introduction and set its gradient to zero to obtain a system of equations:\n",
        "\n",
        "$$\\mathcal{L} = f(x,y)-\\lambda (g(x,y)-c) = 100x^{3/4}y^{1/4} - \\lambda(200x+250y-5000)$$\n",
        "\n",
        "$$\\nabla \\mathcal{L} = \\begin{bmatrix}\n",
        "\\mathcal{L}_x(x,y,\\lambda)\\\\ \n",
        "\\mathcal{L}_y(x,y,\\lambda)\\\\\n",
        "\\mathcal{L}_\\lambda(x,y,\\lambda)\n",
        "\\end{bmatrix} = \\begin{bmatrix}\n",
        "75x^{-1/4}y^{1/4}-200\\lambda\\\\\n",
        "25x^{3/4}y^{-3/4} -250\\lambda\\\\\n",
        "200x+250y-50000\n",
        "\\end{bmatrix} = \\begin{bmatrix}\n",
        "0\\\\\n",
        "0\\\\\n",
        "0\n",
        "\\end{bmatrix}$$\n",
        "\n",
        "which we solve to find a single solution: $(x^*,y^*,\\lambda^*)=(187.5, 50, \\frac{3^{3/4}}{4 \\sqrt{2} 5^{1/4}})$, which is a maximum based on our assumption in the problem introduction. We plot the solultion above. \n",
        "\n",
        "We find the maximum production by plugging $x$ and $y$ into the cost function: $f(187.5,50) = \\$13,473.9$. (Assuming production is measured in dollar revenue)."
      ]
    },
    {
      "cell_type": "markdown",
      "metadata": {
        "id": "bcXGOZ_ibOpV",
        "colab_type": "text"
      },
      "source": [
        "**(c)** _Use the Lagrange Multipliers to estimate the increase in maximum production if we allowed the total expense threshold to increase to \\\\$51,000._\n",
        "\n",
        "We know that the Lagrange multiplier we calculated, $\\lambda^* = \\frac{3^{3/4}}{4 \\sqrt{2} 5^{1/4}}$, is the derivative of the maximum point at the solution with respect to the constraint: $\\frac{dM^*(c)}{dc}=\\lambda^*(c)$.\n",
        "\n",
        "Using this knowledge, and assuming a linear relationship between $M^*$ and $c$, we can use the linear formula to find the revenue with a budget constraint of \\\\$51,000:\n",
        "\n",
        "$$M^*(c) = \\lambda^* c +C$$\n",
        "\n",
        "We expect the intersection $C$ to be zero (no labor or capital, no revenue, from the cost function), but we can verify it by using the point at $(x^*,y^*,50000)$:\n",
        "\n",
        "$$C = 13473.9-\\frac{3^{3/4}}{4 \\sqrt{2} 5^{1/4}}*50000 \\approx 0$$\n",
        "\n",
        "And therefore the maximum revenue with budget \\\\$51,000 is:\n",
        "\n",
        "$$M^*(51000) = \\frac{3^{3/4}}{4 \\sqrt{2} 5^{1/4}} * 51000 \\approx \\\\$13743.9$$.\n",
        "\n",
        "$$\\Delta M^* = M^*(51,000)-M^*(50,000) \\approx \\$269.48$$\n",
        "\n",
        "Which might not be worth the investment."
      ]
    }
  ]
}